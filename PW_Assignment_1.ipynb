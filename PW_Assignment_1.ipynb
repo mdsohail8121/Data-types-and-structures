{
  "nbformat": 4,
  "nbformat_minor": 0,
  "metadata": {
    "colab": {
      "provenance": []
    },
    "kernelspec": {
      "name": "python3",
      "display_name": "Python 3"
    },
    "language_info": {
      "name": "python"
    }
  },
  "cells": [
    {
      "cell_type": "markdown",
      "source": [],
      "metadata": {
        "id": "mBW7Q0jg6c2q"
      }
    },
    {
      "cell_type": "markdown",
      "source": [
        "**Data Types and Structures Questions**\n",
        "\n"
      ],
      "metadata": {
        "id": "WGIrsSII6p-O"
      }
    },
    {
      "cell_type": "markdown",
      "source": [
        "**1:- What are data structures, and why are they important ?**\n",
        "\n",
        "Ans :- Data structures are formats for organizing, storing, processingdata. They are important for managing large amounts of data efficiently and are used in programming.\n",
        "\n",
        "**2:- Explain the difference between mutable and immutable data types with examples.**\n",
        "\n",
        "Ans :- Mutable data types can be changed or edited after they created but immutable are tha one which cannot be changed once they are created.\n",
        "Example of Mutable data types: List, set, dictonary.\n",
        "Example of Imutable data types: String , tuple , integer and float.\n",
        "\n",
        "**3:- What are the main differences between lists and tuples in Python ?**\n",
        "\n",
        "Ans :- List define by [] brackets / Tuple define by ()\n",
        "       List is mutable. We can modaify add, remove the data / Tuple is imutable. Cannot be modified once it gets created.\n",
        "\n",
        "**4:- Describe how dictionaries store data ?**\n",
        "\n",
        "Ans :- Dictonaries store data in key value pairs. It store data in buckets which provide space in the storage. A unique is associated with a specific value.\n",
        "\n",
        "**5:- Why might you use a set instead of a list in Python ?**\n",
        "\n",
        "Ans :- I might use set insterd of list because it has one good advantage of having highly optimized for membership tests.\n",
        "\n",
        "**6 :-What is a string in Python, and how is it different from a list ?**\n",
        "\n",
        "Ans :- a string is a sequence of characters enclosed in quotes (single or double), representing text data, while a list is an ordered collection of items (which can be different data types like numbers, strings, etc.) enclosed in square brackets, allowing for modification and flexibility in data storage; essentially, a string is only made up of characters and is immutable (cannot be changed once created), whereas a list can hold various data types and is mutable (can be changed after creation).\n",
        "\n",
        "7:-  **How do tuples ensure data integrity in Python ?**\n",
        "\n",
        "Ans :- Tuples are an essential data structure in Python, representing an immutable, ordered collection of elements. They are similar to lists but with a key difference: once a tuple is created, its contents cannot be changed. This immutability makes tuples a reliable choice for storing fixed collections of data.\n",
        "\n",
        "**8:- What is a hash table, and how does it relate to dictionaries in Python ?**\n",
        "\n",
        "Ans :- Hash tables are a type of data structure in which the address/ index value of the data element is generated from a hash function. This enables very fast data access as the index value behaves as a key for the data value.\n",
        "\n",
        "**9:- Can lists contain different data types in Python ?**\n",
        "\n",
        "Ans :- A list can also contain a mix of Python types including strings, floats, and booleans.\n",
        "\n",
        "**10:- Explain why strings are immutable in Python ?**\n",
        "\n",
        "Ans :- Python uses  string interning, where identical string values are stored only once in memory to save space.\n",
        "If strings were mutable, modifying one would unintentionally change all references to that string.\n",
        "\n",
        "**11:-  What advantages do dictionaries offer over lists for certain tasks ?**\n",
        "\n",
        "Ans :- Dictionaries have several advantages over lists for tasks that require fast lookups or searches. Dictionaries are more flexible, memory efficient, and easier to use than lists.\n",
        "\n",
        "\n",
        "**12 :- Describe a scenario where using a tuple would be preferable over a list ?**\n",
        "\n",
        "Ans :- when we need to store a collection of data that should never be modified after creation , in such cases we can use tuple insterd of list.\n",
        "\n",
        "**13:- How do sets handle duplicate values in Python ?**\n",
        "\n",
        "Ans :- Sets in Python automatically handle duplicate values by discarding them. This is a fundamental property of sets - they only store unique elements.\n",
        "\n",
        "**14:- How does the “in” keyword work differently for lists and dictionaries ?**\n",
        "\n",
        "Ans :- When using the \"in\" keyword in Python, it checks if a value exists within a sequence like a list, but when used with a dictionary, it specifically checks if a given value is present as a key in the dictionary, not as a value; meaning.\n",
        "\n",
        "**15 :- Can you modify the elements of a tuple? Explain why or why not ?**\n",
        "\n",
        "Ans :- No, we cannot modify the elements of a tuple in Python because tuples are considered \"immutable\" data structures.\n",
        "\n",
        "**16 :- What is a nested dictionary, and give an example of its use case ?**\n",
        "\n",
        "Ans :- A nested dictionary in Python is a dictionary within another dictionary. It allows you to organize data hierarchically, where each key can map to another dictionary as its value. This structure is useful for representing complex data.\n",
        "\n",
        "**17:- Describe the time complexity of accessing elements in a dictionary ?**\n",
        "\n",
        "Ans :- The time complexity of retrieving a value by its key in a dictionary is O(1). This is because dictionaries use a hash table internally which allows constant time lookup.\n",
        "\n",
        "**18:- In what situations are lists preferred over dictionaries ?**\n",
        "\n",
        "Ans :- Lists are preferred over dictionaries when the order of elements is important, we need to frequently add or remove elements from the beginning.\n",
        "\n",
        "**19 :- Why are dictionaries considered unordered, and how does that affect data retrieval ?**\n",
        "\n",
        "Ans :- Dictionary term as an unordered collection of object because in dictionary we can use any type of data types . But in key datatype should be immutable type.\n",
        "\n",
        "**20 :- Explain the difference between a list and a dictionary in terms of data retrieval ?**\n",
        "\n",
        "Ans :- A list retrieves data based on its position in the sequence using an index number, while a dictionary retrieves data using a specific \"key\" which is associated with the desired value."
      ],
      "metadata": {
        "id": "4KRFLPQ66-au"
      }
    },
    {
      "cell_type": "markdown",
      "source": [
        "**Practical Questions**\n"
      ],
      "metadata": {
        "id": "2NjVY_a-qhUL"
      }
    },
    {
      "cell_type": "markdown",
      "source": [
        "1:- Write a code to create a string with your name and print it."
      ],
      "metadata": {
        "id": "K7GvVX7rquWo"
      }
    },
    {
      "cell_type": "code",
      "execution_count": 19,
      "metadata": {
        "id": "ZNsfZn0R3Fsj",
        "colab": {
          "base_uri": "https://localhost:8080/"
        },
        "outputId": "d9584780-3b3e-4cd1-ea9e-fd806fd34930"
      },
      "outputs": [
        {
          "output_type": "stream",
          "name": "stdout",
          "text": [
            "Md sohail jahangeer\n"
          ]
        }
      ],
      "source": [
        "name = \"Md sohail jahangeer\"\n",
        "print(name)\n"
      ]
    },
    {
      "cell_type": "markdown",
      "source": [
        "2:- Write a code to find the length of the string \"Hello World\".\n",
        "\n",
        "---\n",
        "\n"
      ],
      "metadata": {
        "id": "rUmS7ti3q6cy"
      }
    },
    {
      "cell_type": "code",
      "source": [
        "string = \"Md sohail jahangeer\"\n",
        "length = len(string)\n",
        "print(\"Length of the string:\", length)\n"
      ],
      "metadata": {
        "colab": {
          "base_uri": "https://localhost:8080/"
        },
        "id": "0VNdwH1prDRu",
        "outputId": "ec0da8b6-2ca7-4b69-c0ee-227f93af1bf1"
      },
      "execution_count": 20,
      "outputs": [
        {
          "output_type": "stream",
          "name": "stdout",
          "text": [
            "Length of the string: 19\n"
          ]
        }
      ]
    },
    {
      "cell_type": "markdown",
      "source": [
        "3:- Write a code to slice the first 3 characters from the string \"Python Programming\" ?"
      ],
      "metadata": {
        "id": "9DN1mzhfrNsQ"
      }
    },
    {
      "cell_type": "code",
      "source": [
        "string = \"Md sohail jahangeer\"\n",
        "sliced = string[:3]\n",
        "print(sliced)\n"
      ],
      "metadata": {
        "colab": {
          "base_uri": "https://localhost:8080/"
        },
        "id": "1zimwGF7rYeq",
        "outputId": "4bd8f216-ee12-4380-8eb2-cf99b66597af"
      },
      "execution_count": 21,
      "outputs": [
        {
          "output_type": "stream",
          "name": "stdout",
          "text": [
            "Md \n"
          ]
        }
      ]
    },
    {
      "cell_type": "markdown",
      "source": [
        "4:- Write a code to convert the string \"hello\" to uppercase."
      ],
      "metadata": {
        "id": "jLjg4ONcrw_u"
      }
    },
    {
      "cell_type": "code",
      "source": [
        "string = \"Md sohail jahangeer\"\n",
        "uppercase = string.upper()\n",
        "print(uppercase)\n"
      ],
      "metadata": {
        "colab": {
          "base_uri": "https://localhost:8080/"
        },
        "id": "BHHK9-tKsAut",
        "outputId": "821ce0c3-f9f2-4382-b0e9-28225250f355"
      },
      "execution_count": 22,
      "outputs": [
        {
          "output_type": "stream",
          "name": "stdout",
          "text": [
            "MD SOHAIL JAHANGEER\n"
          ]
        }
      ]
    },
    {
      "cell_type": "markdown",
      "source": [
        "5:- Write a code to replace the word \"apple\" with \"orange\" in the string \"I like apple\"."
      ],
      "metadata": {
        "id": "Zdql_5AzsIyq"
      }
    },
    {
      "cell_type": "code",
      "source": [
        "string = \"I like apple\"\n",
        "modified = string.replace(\"apple\", \"orange\")\n",
        "print(modified)\n"
      ],
      "metadata": {
        "colab": {
          "base_uri": "https://localhost:8080/"
        },
        "id": "1p1ZSNc7sUjj",
        "outputId": "4641eb08-d92b-4161-db3a-c814fc09d01d"
      },
      "execution_count": 23,
      "outputs": [
        {
          "output_type": "stream",
          "name": "stdout",
          "text": [
            "I like orange\n"
          ]
        }
      ]
    },
    {
      "cell_type": "markdown",
      "source": [
        "6:- Write a code to create a list with numbers 1 to 5 and print it."
      ],
      "metadata": {
        "id": "tRlKD6rasaL1"
      }
    },
    {
      "cell_type": "code",
      "source": [
        "numbers = [1, 2, 3, 4, 5]\n",
        "print(numbers)\n"
      ],
      "metadata": {
        "colab": {
          "base_uri": "https://localhost:8080/"
        },
        "id": "IHDcjN27sgRr",
        "outputId": "a09d6bee-75db-4194-a3c1-2d22f7546b35"
      },
      "execution_count": 6,
      "outputs": [
        {
          "output_type": "stream",
          "name": "stdout",
          "text": [
            "[1, 2, 3, 4, 5]\n"
          ]
        }
      ]
    },
    {
      "cell_type": "markdown",
      "source": [
        "7:- Write a code to append the number 10 to the list [1, 2, 3, 4]."
      ],
      "metadata": {
        "id": "4ha8ZvPBsj2S"
      }
    },
    {
      "cell_type": "code",
      "source": [
        "numbers = [1, 2, 3, 4]\n",
        "numbers.append(10)\n",
        "print(numbers)\n"
      ],
      "metadata": {
        "colab": {
          "base_uri": "https://localhost:8080/"
        },
        "id": "mfUBJTe0solM",
        "outputId": "b593563b-b403-4cb4-e06d-ccf0992b186f"
      },
      "execution_count": 7,
      "outputs": [
        {
          "output_type": "stream",
          "name": "stdout",
          "text": [
            "[1, 2, 3, 4, 10]\n"
          ]
        }
      ]
    },
    {
      "cell_type": "markdown",
      "source": [
        "8:- Write a code to remove the number 3 from the list [1, 2, 3, 4, 5]."
      ],
      "metadata": {
        "id": "qavMcUwTstfW"
      }
    },
    {
      "cell_type": "code",
      "source": [
        "numbers = [1, 2, 3, 4, 5]\n",
        "numbers.remove(3)\n",
        "print(numbers)\n"
      ],
      "metadata": {
        "colab": {
          "base_uri": "https://localhost:8080/"
        },
        "id": "3yxAsZi7sx8N",
        "outputId": "43e64e6f-a705-416b-9638-da4a63acfd5d"
      },
      "execution_count": 8,
      "outputs": [
        {
          "output_type": "stream",
          "name": "stdout",
          "text": [
            "[1, 2, 4, 5]\n"
          ]
        }
      ]
    },
    {
      "cell_type": "markdown",
      "source": [
        "9:- Write a code to access the second element in the list ['a', 'b', 'c', 'd']."
      ],
      "metadata": {
        "id": "PUBnOv_ms7mm"
      }
    },
    {
      "cell_type": "code",
      "source": [
        "letters = ['a', 'b', 'c', 'd']\n",
        "second_element = letters[1]\n",
        "print(second_element)\n"
      ],
      "metadata": {
        "colab": {
          "base_uri": "https://localhost:8080/"
        },
        "id": "p0M5oIf2tAwN",
        "outputId": "1bb38e6f-7cdc-4efe-8fce-2f74d079af2e"
      },
      "execution_count": 9,
      "outputs": [
        {
          "output_type": "stream",
          "name": "stdout",
          "text": [
            "b\n"
          ]
        }
      ]
    },
    {
      "cell_type": "markdown",
      "source": [
        "10:- Write a code to reverse the list [10, 20, 30, 40, 50]."
      ],
      "metadata": {
        "id": "Ar_Pp8zitJYq"
      }
    },
    {
      "cell_type": "code",
      "source": [
        "numbers = [10, 20, 30, 40, 50]\n",
        "numbers.reverse()\n",
        "print(numbers)\n"
      ],
      "metadata": {
        "colab": {
          "base_uri": "https://localhost:8080/"
        },
        "id": "U8LyGdLLtOLe",
        "outputId": "bcd29cc0-eb1f-43be-c88a-cc2fb413659e"
      },
      "execution_count": 10,
      "outputs": [
        {
          "output_type": "stream",
          "name": "stdout",
          "text": [
            "[50, 40, 30, 20, 10]\n"
          ]
        }
      ]
    },
    {
      "cell_type": "markdown",
      "source": [
        "11:- Write a code to create a tuple with the elements 10, 20, 30 and print it."
      ],
      "metadata": {
        "id": "m914onVTtTlA"
      }
    },
    {
      "cell_type": "code",
      "source": [
        "my_tuple = (10, 20, 30)\n",
        "print(my_tuple)\n"
      ],
      "metadata": {
        "colab": {
          "base_uri": "https://localhost:8080/"
        },
        "id": "98VCfFCItby3",
        "outputId": "18c40bf4-1920-4529-bd21-1d2d108042ea"
      },
      "execution_count": 11,
      "outputs": [
        {
          "output_type": "stream",
          "name": "stdout",
          "text": [
            "(10, 20, 30)\n"
          ]
        }
      ]
    },
    {
      "cell_type": "markdown",
      "source": [
        "12 :-  Write a code to access the first element of the tuple ('apple', 'banana', 'cherry')."
      ],
      "metadata": {
        "id": "2Xmzs1bFtjjY"
      }
    },
    {
      "cell_type": "code",
      "source": [
        "fruits = ('apple', 'banana', 'cherry')\n",
        "first_element = fruits[0]\n",
        "print(first_element)\n"
      ],
      "metadata": {
        "colab": {
          "base_uri": "https://localhost:8080/"
        },
        "id": "bHlgFp6OtoB_",
        "outputId": "bca3ebad-e03a-492d-8407-53789b48e12b"
      },
      "execution_count": 12,
      "outputs": [
        {
          "output_type": "stream",
          "name": "stdout",
          "text": [
            "apple\n"
          ]
        }
      ]
    },
    {
      "cell_type": "markdown",
      "source": [
        "13:- Write a code to count how many times the number 2 appears in the tuple (1, 2, 3, 2, 4, 2)."
      ],
      "metadata": {
        "id": "NSNKd_j8txi9"
      }
    },
    {
      "cell_type": "code",
      "source": [
        "my_tuple = (1, 2, 3, 2, 4, 2)\n",
        "count = my_tuple.count(2)\n",
        "print(count)\n"
      ],
      "metadata": {
        "colab": {
          "base_uri": "https://localhost:8080/"
        },
        "id": "_m3G92Tlt07R",
        "outputId": "5e9b7b16-a2c3-44b3-f6a1-2b1d92091054"
      },
      "execution_count": 13,
      "outputs": [
        {
          "output_type": "stream",
          "name": "stdout",
          "text": [
            "3\n"
          ]
        }
      ]
    },
    {
      "cell_type": "markdown",
      "source": [
        "14:- Write a code to find the index of the element \"cat\" in the tuple ('dog', 'cat', 'rabbit')."
      ],
      "metadata": {
        "id": "J7-k1oEqt-83"
      }
    },
    {
      "cell_type": "code",
      "source": [
        "my_tuple = ('dog', 'cat', 'rabbit')\n",
        "index = my_tuple.index('cat')\n",
        "print(index)\n"
      ],
      "metadata": {
        "colab": {
          "base_uri": "https://localhost:8080/"
        },
        "id": "fR5vq0B3uD8s",
        "outputId": "bfb66bbe-773a-49a5-f12e-12f67312a111"
      },
      "execution_count": 14,
      "outputs": [
        {
          "output_type": "stream",
          "name": "stdout",
          "text": [
            "1\n"
          ]
        }
      ]
    },
    {
      "cell_type": "markdown",
      "source": [
        "15:- Write a code to check if the element \"banana\" is in the tuple ('apple', 'orange', 'banana')."
      ],
      "metadata": {
        "id": "b5TYR5jBuK3_"
      }
    },
    {
      "cell_type": "code",
      "source": [
        "my_tuple = ('apple', 'orange', 'banana')\n",
        "if 'banana' in my_tuple:\n",
        "    print(\"Banana is in the tuple!\")\n",
        "else:\n",
        "    print(\"Banana is not in the tuple.\")\n"
      ],
      "metadata": {
        "colab": {
          "base_uri": "https://localhost:8080/"
        },
        "id": "8dSa61rtuQ2w",
        "outputId": "e79d9417-55c0-4a16-c065-b04a51ad5c2a"
      },
      "execution_count": 15,
      "outputs": [
        {
          "output_type": "stream",
          "name": "stdout",
          "text": [
            "Banana is in the tuple!\n"
          ]
        }
      ]
    },
    {
      "cell_type": "markdown",
      "source": [
        "16:- Write a code to create a set with the elements 1, 2, 3, 4, 5 and print it."
      ],
      "metadata": {
        "id": "ydMRSUcOuX-B"
      }
    },
    {
      "cell_type": "code",
      "source": [
        "my_set = {1, 2, 3, 4, 5}\n",
        "print(my_set)\n"
      ],
      "metadata": {
        "colab": {
          "base_uri": "https://localhost:8080/"
        },
        "id": "l8EC02r0ueQD",
        "outputId": "6893440e-be96-4082-b975-5dd6bc442f80"
      },
      "execution_count": 16,
      "outputs": [
        {
          "output_type": "stream",
          "name": "stdout",
          "text": [
            "{1, 2, 3, 4, 5}\n"
          ]
        }
      ]
    },
    {
      "cell_type": "markdown",
      "source": [
        "17:- Write a code to add the element 6 to the set {1, 2, 3, 4}."
      ],
      "metadata": {
        "id": "ni2tIW1Muh3a"
      }
    },
    {
      "cell_type": "code",
      "source": [
        "my_set = {1, 2, 3, 4}\n",
        "my_set.add(6)\n",
        "print(my_set)\n"
      ],
      "metadata": {
        "colab": {
          "base_uri": "https://localhost:8080/"
        },
        "id": "Ng4I9BZyulvX",
        "outputId": "12bb20dc-50cb-4a29-f29a-6414d6ca5846"
      },
      "execution_count": 17,
      "outputs": [
        {
          "output_type": "stream",
          "name": "stdout",
          "text": [
            "{1, 2, 3, 4, 6}\n"
          ]
        }
      ]
    },
    {
      "cell_type": "markdown",
      "source": [
        "18:- Write a code to create a tuple with the elements 10, 20, 30 and print it."
      ],
      "metadata": {
        "id": "SouZ5snLut5f"
      }
    },
    {
      "cell_type": "code",
      "source": [
        "my_tuple = (10, 20, 30)\n",
        "print(my_tuple)\n"
      ],
      "metadata": {
        "colab": {
          "base_uri": "https://localhost:8080/"
        },
        "id": "kKg4dvQnuxrq",
        "outputId": "b3c37153-ab62-488c-dc37-ddef6b911dfb"
      },
      "execution_count": 18,
      "outputs": [
        {
          "output_type": "stream",
          "name": "stdout",
          "text": [
            "(10, 20, 30)\n"
          ]
        }
      ]
    },
    {
      "cell_type": "markdown",
      "source": [
        "19:- Write a code to access the first element of the tuple ('apple', 'banana', 'cherry')."
      ],
      "metadata": {
        "id": "VS5wh_mCvASo"
      }
    },
    {
      "cell_type": "code",
      "source": [
        "fruits = ('apple', 'banana', 'cherry')\n",
        "first_element = fruits[0]\n",
        "print(first_element)\n"
      ],
      "metadata": {
        "colab": {
          "base_uri": "https://localhost:8080/"
        },
        "id": "n03Vyp1GvEDK",
        "outputId": "45a7c2c1-bc75-4a58-828b-a308075c6df6"
      },
      "execution_count": 24,
      "outputs": [
        {
          "output_type": "stream",
          "name": "stdout",
          "text": [
            "apple\n"
          ]
        }
      ]
    },
    {
      "cell_type": "markdown",
      "source": [
        "20:- Write a code to count how many times the number 2 appears in the tuple (1, 2, 3, 2, 4, 2)."
      ],
      "metadata": {
        "id": "olCh_CyKvJeY"
      }
    },
    {
      "cell_type": "code",
      "source": [
        "my_tuple = (1, 2, 3, 2, 4, 2)\n",
        "count = my_tuple.count(2)\n",
        "print(count)\n"
      ],
      "metadata": {
        "colab": {
          "base_uri": "https://localhost:8080/"
        },
        "id": "DGErg8KZvNIS",
        "outputId": "b7a58a95-b558-4e63-9bc6-41453be9d524"
      },
      "execution_count": 25,
      "outputs": [
        {
          "output_type": "stream",
          "name": "stdout",
          "text": [
            "3\n"
          ]
        }
      ]
    },
    {
      "cell_type": "markdown",
      "source": [
        "21 :- Write a code to find the index of the element \"cat\" in the tuple ('dog', 'cat', 'rabbit')."
      ],
      "metadata": {
        "id": "6mb-LouFvRR8"
      }
    },
    {
      "cell_type": "code",
      "source": [
        "my_tuple = ('dog', 'cat', 'rabbit')\n",
        "index = my_tuple.index('cat')\n",
        "print(index)\n"
      ],
      "metadata": {
        "colab": {
          "base_uri": "https://localhost:8080/"
        },
        "id": "GlvabqfWvWHC",
        "outputId": "cc399a8d-4aa9-4208-bd51-6103740ba1c1"
      },
      "execution_count": 26,
      "outputs": [
        {
          "output_type": "stream",
          "name": "stdout",
          "text": [
            "1\n"
          ]
        }
      ]
    },
    {
      "cell_type": "markdown",
      "source": [
        "22:-  Write a code to check if the element \"banana\" is in the tuple ('apple', 'orange', 'banana')"
      ],
      "metadata": {
        "id": "KQze092Vva_F"
      }
    },
    {
      "cell_type": "code",
      "source": [
        "my_tuple = ('apple', 'orange', 'banana')\n",
        "if 'banana' in my_tuple:\n",
        "    print(\"Banana is in the tuple\")\n",
        "else:\n",
        "    print(\"Banana is not in the tuple.\")\n"
      ],
      "metadata": {
        "colab": {
          "base_uri": "https://localhost:8080/"
        },
        "id": "kc8vX9qGveXy",
        "outputId": "8ac865c0-0fba-4384-e152-71f47da9d71c"
      },
      "execution_count": 28,
      "outputs": [
        {
          "output_type": "stream",
          "name": "stdout",
          "text": [
            "Banana is in the tuple\n"
          ]
        }
      ]
    },
    {
      "cell_type": "markdown",
      "source": [
        "23:- Write a code to create a set with the elements 1, 2, 3, 4, 5 and print it."
      ],
      "metadata": {
        "id": "98SxVZO-vk8N"
      }
    },
    {
      "cell_type": "code",
      "source": [
        "my_set = {1, 2, 3, 4, 5}\n",
        "print(my_set)\n"
      ],
      "metadata": {
        "colab": {
          "base_uri": "https://localhost:8080/"
        },
        "id": "ycEfBjeQvrU5",
        "outputId": "64773b53-b023-45b5-99b2-44a13ba26229"
      },
      "execution_count": 29,
      "outputs": [
        {
          "output_type": "stream",
          "name": "stdout",
          "text": [
            "{1, 2, 3, 4, 5}\n"
          ]
        }
      ]
    },
    {
      "cell_type": "markdown",
      "source": [
        "24:- Write a code to add the element 6 to the set {1, 2, 3, 4}."
      ],
      "metadata": {
        "id": "EqYbWeyPvz4P"
      }
    },
    {
      "cell_type": "code",
      "source": [
        "my_set = {1, 2, 3, 4}\n",
        "my_set.add(6)\n",
        "print(my_set)\n"
      ],
      "metadata": {
        "colab": {
          "base_uri": "https://localhost:8080/"
        },
        "id": "s41qWmzqv7kg",
        "outputId": "f33d0663-d096-4ea7-d23f-131cf248d207"
      },
      "execution_count": 30,
      "outputs": [
        {
          "output_type": "stream",
          "name": "stdout",
          "text": [
            "{1, 2, 3, 4, 6}\n"
          ]
        }
      ]
    }
  ]
}